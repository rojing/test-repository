{
 "cells": [
  {
   "cell_type": "code",
   "execution_count": 1,
   "id": "5170d7f5-d382-4c66-aabc-9ba3c3e9dec7",
   "metadata": {},
   "outputs": [
    {
     "name": "stdout",
     "output_type": "stream",
     "text": [
      "다운로드 잘 되나?\n"
     ]
    }
   ],
   "source": [
    "print(\"다운로드 잘 되나?\")"
   ]
  },
  {
   "cell_type": "code",
   "execution_count": 3,
   "id": "10de8185-43ab-40c5-81e6-71e2f5f12b94",
   "metadata": {},
   "outputs": [
    {
     "name": "stdout",
     "output_type": "stream",
     "text": [
      "아무 문제 없지?\n"
     ]
    }
   ],
   "source": [
    "print(\"아무 문제 없지?\")"
   ]
  },
  {
   "cell_type": "markdown",
   "id": "e67f001d-ad26-4fe8-a783-654ef90cda12",
   "metadata": {},
   "source": [
    "# 테스트 파일입니다"
   ]
  }
 ],
 "metadata": {
  "kernelspec": {
   "display_name": "Python 3 (ipykernel)",
   "language": "python",
   "name": "python3"
  },
  "language_info": {
   "codemirror_mode": {
    "name": "ipython",
    "version": 3
   },
   "file_extension": ".py",
   "mimetype": "text/x-python",
   "name": "python",
   "nbconvert_exporter": "python",
   "pygments_lexer": "ipython3",
   "version": "3.11.10"
  }
 },
 "nbformat": 4,
 "nbformat_minor": 5
}
